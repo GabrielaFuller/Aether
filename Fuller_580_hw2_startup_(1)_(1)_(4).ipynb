{
  "cells": [
    {
      "cell_type": "markdown",
      "metadata": {
        "id": "view-in-github",
        "colab_type": "text"
      },
      "source": [
        "<a href=\"https://colab.research.google.com/github/GabrielaFuller/Aether/blob/main/Fuller_580_hw2_startup_(1)_(1)_(4).ipynb\" target=\"_parent\"><img src=\"https://colab.research.google.com/assets/colab-badge.svg\" alt=\"Open In Colab\"/></a>"
      ]
    },
    {
      "cell_type": "markdown",
      "id": "20edd000",
      "metadata": {
        "id": "20edd000"
      },
      "source": [
        "# CSC 580 Artificial Intelligence II, Winter 2025\n",
        "# HW\\#2 Cliffwalk -- Start-up code\n"
      ]
    },
    {
      "cell_type": "markdown",
      "id": "K1HJ3taMYskB",
      "metadata": {
        "id": "K1HJ3taMYskB"
      },
      "source": [
        "### 1. Install gymnasium and create a Cliff Walk environment"
      ]
    },
    {
      "cell_type": "code",
      "execution_count": null,
      "id": "1691a6ec",
      "metadata": {
        "colab": {
          "base_uri": "https://localhost:8080/"
        },
        "id": "1691a6ec",
        "outputId": "e549c551-aa6f-460f-d844-646ce58dd784"
      },
      "outputs": [
        {
          "output_type": "stream",
          "name": "stdout",
          "text": [
            "Collecting gymnasium[toy-text]\n",
            "  Downloading gymnasium-1.0.0-py3-none-any.whl.metadata (9.5 kB)\n",
            "Requirement already satisfied: numpy>=1.21.0 in /usr/local/lib/python3.11/dist-packages (from gymnasium[toy-text]) (1.26.4)\n",
            "Requirement already satisfied: cloudpickle>=1.2.0 in /usr/local/lib/python3.11/dist-packages (from gymnasium[toy-text]) (3.1.1)\n",
            "Requirement already satisfied: typing-extensions>=4.3.0 in /usr/local/lib/python3.11/dist-packages (from gymnasium[toy-text]) (4.12.2)\n",
            "Collecting farama-notifications>=0.0.1 (from gymnasium[toy-text])\n",
            "  Downloading Farama_Notifications-0.0.4-py3-none-any.whl.metadata (558 bytes)\n",
            "Requirement already satisfied: pygame>=2.1.3 in /usr/local/lib/python3.11/dist-packages (from gymnasium[toy-text]) (2.6.1)\n",
            "Downloading Farama_Notifications-0.0.4-py3-none-any.whl (2.5 kB)\n",
            "Downloading gymnasium-1.0.0-py3-none-any.whl (958 kB)\n",
            "\u001b[2K   \u001b[90m━━━━━━━━━━━━━━━━━━━━━━━━━━━━━━━━━━━━━━━━\u001b[0m \u001b[32m958.1/958.1 kB\u001b[0m \u001b[31m12.5 MB/s\u001b[0m eta \u001b[36m0:00:00\u001b[0m\n",
            "\u001b[?25hInstalling collected packages: farama-notifications, gymnasium\n",
            "Successfully installed farama-notifications-0.0.4 gymnasium-1.0.0\n"
          ]
        }
      ],
      "source": [
        "# Install gymnasium (in particular the toy-text subset)\n",
        "!pip install gymnasium[toy-text]"
      ]
    },
    {
      "cell_type": "code",
      "execution_count": null,
      "id": "195ba04d",
      "metadata": {
        "colab": {
          "base_uri": "https://localhost:8080/",
          "height": 280
        },
        "id": "195ba04d",
        "outputId": "d9075418-5182-4219-c233-674616a67357"
      },
      "outputs": [
        {
          "output_type": "execute_result",
          "data": {
            "text/plain": [
              "array([[[ 91, 150,  97],\n",
              "        [ 91, 150,  97],\n",
              "        [ 91, 150,  97],\n",
              "        ...,\n",
              "        [ 86, 170,  69],\n",
              "        [ 86, 170,  69],\n",
              "        [ 86, 170,  69]],\n",
              "\n",
              "       [[ 91, 150,  97],\n",
              "        [ 91, 150,  97],\n",
              "        [ 91, 150,  97],\n",
              "        ...,\n",
              "        [ 86, 170,  69],\n",
              "        [ 86, 170,  69],\n",
              "        [ 86, 170,  69]],\n",
              "\n",
              "       [[ 91, 150,  97],\n",
              "        [ 91, 150,  97],\n",
              "        [ 98, 166, 105],\n",
              "        ...,\n",
              "        [105, 182,  74],\n",
              "        [105, 182,  74],\n",
              "        [ 86, 170,  69]],\n",
              "\n",
              "       ...,\n",
              "\n",
              "       [[ 86, 170,  69],\n",
              "        [ 86, 170,  69],\n",
              "        [ 93, 188,  74],\n",
              "        ...,\n",
              "        [ 91, 150,  97],\n",
              "        [ 91, 150,  97],\n",
              "        [ 91, 150,  97]],\n",
              "\n",
              "       [[ 86, 170,  69],\n",
              "        [ 86, 170,  69],\n",
              "        [ 93, 188,  74],\n",
              "        ...,\n",
              "        [ 91, 150,  97],\n",
              "        [ 91, 150,  97],\n",
              "        [ 91, 150,  97]],\n",
              "\n",
              "       [[ 86, 170,  69],\n",
              "        [ 86, 170,  69],\n",
              "        [ 86, 170,  69],\n",
              "        ...,\n",
              "        [ 91, 150,  97],\n",
              "        [ 91, 150,  97],\n",
              "        [ 91, 150,  97]]], dtype=uint8)"
            ],
            "text/html": [
              "<style>\n",
              "      .ndarray_repr .ndarray_raw_data {\n",
              "        display: none;\n",
              "      }\n",
              "      .ndarray_repr.show_array .ndarray_raw_data {\n",
              "        display: block;\n",
              "      }\n",
              "      .ndarray_repr.show_array .ndarray_image_preview {\n",
              "        display: none;\n",
              "      }\n",
              "      </style>\n",
              "      <div id=\"id-77290caf-eaf8-4a75-8a80-f9529c971932\" class=\"ndarray_repr\"><pre>ndarray (240, 720, 3) <button style=\"padding: 0 2px;\">show data</button></pre><img src=\"data:image/png;base64,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\" class=\"ndarray_image_preview\" /><pre class=\"ndarray_raw_data\">array([[[ 91, 150,  97],\n",
              "        [ 91, 150,  97],\n",
              "        [ 91, 150,  97],\n",
              "        ...,\n",
              "        [ 86, 170,  69],\n",
              "        [ 86, 170,  69],\n",
              "        [ 86, 170,  69]],\n",
              "\n",
              "       [[ 91, 150,  97],\n",
              "        [ 91, 150,  97],\n",
              "        [ 91, 150,  97],\n",
              "        ...,\n",
              "        [ 86, 170,  69],\n",
              "        [ 86, 170,  69],\n",
              "        [ 86, 170,  69]],\n",
              "\n",
              "       [[ 91, 150,  97],\n",
              "        [ 91, 150,  97],\n",
              "        [ 98, 166, 105],\n",
              "        ...,\n",
              "        [105, 182,  74],\n",
              "        [105, 182,  74],\n",
              "        [ 86, 170,  69]],\n",
              "\n",
              "       ...,\n",
              "\n",
              "       [[ 86, 170,  69],\n",
              "        [ 86, 170,  69],\n",
              "        [ 93, 188,  74],\n",
              "        ...,\n",
              "        [ 91, 150,  97],\n",
              "        [ 91, 150,  97],\n",
              "        [ 91, 150,  97]],\n",
              "\n",
              "       [[ 86, 170,  69],\n",
              "        [ 86, 170,  69],\n",
              "        [ 93, 188,  74],\n",
              "        ...,\n",
              "        [ 91, 150,  97],\n",
              "        [ 91, 150,  97],\n",
              "        [ 91, 150,  97]],\n",
              "\n",
              "       [[ 86, 170,  69],\n",
              "        [ 86, 170,  69],\n",
              "        [ 86, 170,  69],\n",
              "        ...,\n",
              "        [ 91, 150,  97],\n",
              "        [ 91, 150,  97],\n",
              "        [ 91, 150,  97]]], dtype=uint8)</pre></div><script>\n",
              "      (() => {\n",
              "      const titles = ['show data', 'hide data'];\n",
              "      let index = 0\n",
              "      document.querySelector('#id-77290caf-eaf8-4a75-8a80-f9529c971932 button').onclick = (e) => {\n",
              "        document.querySelector('#id-77290caf-eaf8-4a75-8a80-f9529c971932').classList.toggle('show_array');\n",
              "        index = (++index) % 2;\n",
              "        document.querySelector('#id-77290caf-eaf8-4a75-8a80-f9529c971932 button').textContent = titles[index];\n",
              "        e.preventDefault();\n",
              "        e.stopPropagation();\n",
              "      }\n",
              "      })();\n",
              "    </script>"
            ]
          },
          "metadata": {},
          "execution_count": 5
        }
      ],
      "source": [
        "import gymnasium as gym\n",
        "import numpy as np\n",
        "\n",
        "# Create a Cliff Walk environment using Gymnasium\n",
        "env = gym.make(\"CliffWalking-v0\", is_slippery=True, render_mode=\"rgb_array\")#'ansi')#\n",
        "\n",
        "# Reset the environment and display it\n",
        "env.reset()\n",
        "\n",
        "#print (env.render())  # textual output if mode == 'ansi' or 'human'\n",
        "env.render() # gui/rgb output"
      ]
    },
    {
      "cell_type": "markdown",
      "id": "e9FEBDeuxicz",
      "metadata": {
        "id": "e9FEBDeuxicz"
      },
      "source": [
        "### 2. Inspect environment, transition probabilities and rewards"
      ]
    },
    {
      "cell_type": "code",
      "execution_count": null,
      "id": "40d9fc3b",
      "metadata": {
        "colab": {
          "base_uri": "https://localhost:8080/"
        },
        "id": "40d9fc3b",
        "outputId": "d68edd26-b5dc-4d3c-fd60-baa40c9c3a78"
      },
      "outputs": [
        {
          "output_type": "stream",
          "name": "stdout",
          "text": [
            "48, 4\n"
          ]
        }
      ],
      "source": [
        "nS = env.observation_space.n    # number of states -- 48\n",
        "nA = env.action_space.n     # number of actions -- four directions; 0:up, 1:right, 2:down, 3:left\n",
        "print (\"{}, {}\".format(nS, nA))"
      ]
    },
    {
      "cell_type": "markdown",
      "id": "RAZslvbLx5t5",
      "metadata": {
        "id": "RAZslvbLx5t5"
      },
      "source": [
        "Transition probabilities, rewards and other info are stored a dictionary **env.P**.  You use state index (0-based) to access the info.  The tuple for each transition indicates (transition_probability, new_state, reward, terminated).\n",
        "\n",
        "**IMPORTANT**: If you get an error \"AttributeError: 'OrderEnforcing' object has no attribute 'P'\", add a line to unwrap the environment and access P inside.  For example,\n",
        "\n",
        "<pre># Access the underlying environment using env.unwrapped\n",
        "env_unwrapped = env.unwrapped\n",
        "\n",
        "# Now you can access the transition probabilities\n",
        "env_unwrapped.P[0]</pre>"
      ]
    },
    {
      "cell_type": "code",
      "execution_count": null,
      "id": "a22296b1",
      "metadata": {
        "colab": {
          "base_uri": "https://localhost:8080/"
        },
        "id": "a22296b1",
        "outputId": "376de89e-c12a-4ba6-cc30-589fbf5bf6ad"
      },
      "outputs": [
        {
          "output_type": "execute_result",
          "data": {
            "text/plain": [
              "{0: [(0.3333333333333333, 0, -1, False),\n",
              "  (0.3333333333333333, 0, -1, False),\n",
              "  (0.3333333333333333, 1, -1, False)],\n",
              " 1: [(0.3333333333333333, 0, -1, False),\n",
              "  (0.3333333333333333, 1, -1, False),\n",
              "  (0.3333333333333333, 12, -1, False)],\n",
              " 2: [(0.3333333333333333, 1, -1, False),\n",
              "  (0.3333333333333333, 12, -1, False),\n",
              "  (0.3333333333333333, 0, -1, False)],\n",
              " 3: [(0.3333333333333333, 12, -1, False),\n",
              "  (0.3333333333333333, 0, -1, False),\n",
              "  (0.3333333333333333, 0, -1, False)]}"
            ]
          },
          "metadata": {},
          "execution_count": 7
        }
      ],
      "source": [
        "# Probatilies from State 0 (top-left corner).\n",
        "#env.P[0]\n",
        "\n",
        "# Access the underlying environment using env.unwrapped\n",
        "env_unwrapped = env.unwrapped\n",
        "\n",
        "# Now you can access the transition probabilities\n",
        "env_unwrapped.P[0]"
      ]
    },
    {
      "cell_type": "code",
      "execution_count": null,
      "id": "58ac62fa",
      "metadata": {
        "colab": {
          "base_uri": "https://localhost:8080/"
        },
        "id": "58ac62fa",
        "outputId": "62258253-8adf-4d4e-9c35-dd1f9bf03b9d"
      },
      "outputs": [
        {
          "output_type": "execute_result",
          "data": {
            "text/plain": [
              "{0: [(0.3333333333333333, 36, -1, False),\n",
              "  (0.3333333333333333, 24, -1, False),\n",
              "  (0.3333333333333333, 36, -100, False)],\n",
              " 1: [(0.3333333333333333, 24, -1, False),\n",
              "  (0.3333333333333333, 36, -100, False),\n",
              "  (0.3333333333333333, 36, -1, False)],\n",
              " 2: [(0.3333333333333333, 36, -100, False),\n",
              "  (0.3333333333333333, 36, -1, False),\n",
              "  (0.3333333333333333, 36, -1, False)],\n",
              " 3: [(0.3333333333333333, 36, -1, False),\n",
              "  (0.3333333333333333, 36, -1, False),\n",
              "  (0.3333333333333333, 24, -1, False)]}"
            ]
          },
          "metadata": {},
          "execution_count": 8
        }
      ],
      "source": [
        "# Probatilies from the start state (36)\n",
        "env_unwrapped.P[36]"
      ]
    },
    {
      "cell_type": "code",
      "execution_count": null,
      "id": "7g4qKjzcSWn0",
      "metadata": {
        "colab": {
          "base_uri": "https://localhost:8080/"
        },
        "id": "7g4qKjzcSWn0",
        "outputId": "67a5fdd3-d556-4f96-adf2-76748e1c42a6"
      },
      "outputs": [
        {
          "output_type": "execute_result",
          "data": {
            "text/plain": [
              "[(0.3333333333333333, 36, -1, False),\n",
              " (0.3333333333333333, 36, -1, False),\n",
              " (0.3333333333333333, 24, -1, False)]"
            ]
          },
          "metadata": {},
          "execution_count": 9
        }
      ],
      "source": [
        "# Transition probability for trying to go left (action 3) from the start state (36)\n",
        "env_unwrapped.P[36][3]"
      ]
    },
    {
      "cell_type": "markdown",
      "id": "f1d84c72",
      "metadata": {
        "id": "f1d84c72"
      },
      "source": [
        "## 3. Create a random/fixed policy and run the policy once.\n"
      ]
    },
    {
      "cell_type": "code",
      "execution_count": null,
      "id": "i1A6adBPn7F_",
      "metadata": {
        "id": "i1A6adBPn7F_"
      },
      "outputs": [],
      "source": [
        "def generate_random_policy(num_actions, num_states, seed=None):\n",
        "    \"\"\"\n",
        "    A policy is a 1D array of length # of states, where each element is a\n",
        "    number between 0 (inclusive) and # of actions (exclusive) randomly chosen.\n",
        "    If a specific seed is passed, the same numbers are genereated, while\n",
        "    if the seed is None, the numbers are unpredictable every time.\n",
        "    \"\"\"\n",
        "    rng = np.random.default_rng(seed)\n",
        "    return rng.integers(low=0, high=num_actions, size=num_states)"
      ]
    },
    {
      "cell_type": "code",
      "execution_count": null,
      "id": "LWXY4PoCvArD",
      "metadata": {
        "id": "LWXY4PoCvArD"
      },
      "outputs": [],
      "source": [
        "def run(env, pi, printinfo=False):\n",
        "    \"\"\"\n",
        "    Run the policy on the environment and returns the cumulative reward.\n",
        "    :param: env: The environment\n",
        "    :param: pi: A given policy, represented as a 1D array of length # of states.\n",
        "    :return: Cumulative reward\n",
        "    \"\"\"\n",
        "    s = env.reset()\n",
        "    if printinfo == True:\n",
        "        print(f'\\n* Episode starting from state {s[0]}')  # ensure starting from state 36\n",
        "\n",
        "    s = s[0]  # extract the state value/index from the tuple\n",
        "    done = False  # this becomes true when agent reaches the goal state (47)\n",
        "    sum_r = 0\n",
        "    steps = 0\n",
        "    near_falls = 0  # added\n",
        "\n",
        "    while not done:\n",
        "        a = pi[s]  # action for the state s, according to the policy\n",
        "        s, r, done, info, p = env.step(a)  # take the action\n",
        "        sum_r += r  # accumulate reward\n",
        "        steps += 1  # incrementally adding step count\n",
        "\n",
        "        # checking for near-falls\n",
        "        near_fall_states = [35, 36, 37]\n",
        "        if s in near_fall_states:\n",
        "            near_falls += 1  # near-falls count\n",
        "        if printinfo:\n",
        "            print(f'next_state={s}, reward={r}, done={done}, info={info}, p={p}')\n",
        "\n",
        "        ### uncomment below to see the information for each ste\n",
        "\n",
        "        # prints info in text if render_mode is 'ansi' or no output if 'human',\n",
        "        # or graphical output if 'rgb_array' AND if the code is run from command line.\n",
        "        env.render()\n",
        "    return steps, near_falls, sum_r"
      ]
    },
    {
      "cell_type": "markdown",
      "id": "EWn5en-soDkw",
      "metadata": {
        "id": "EWn5en-soDkw"
      },
      "source": [
        "### Run the given policy just once and observe what's returned (the total return)."
      ]
    },
    {
      "cell_type": "code",
      "execution_count": null,
      "id": "-8y99awdoDZX",
      "metadata": {
        "colab": {
          "base_uri": "https://localhost:8080/"
        },
        "id": "-8y99awdoDZX",
        "outputId": "dd4bfaa6-90bc-439e-d748-7429ba48cd29"
      },
      "outputs": [
        {
          "output_type": "stream",
          "name": "stdout",
          "text": [
            "*** Policy ***\n",
            "[[2 3 0 0 1 2 3 1 0 0 1 1]\n",
            " [3 1 2 2 0 2 0 0 2 1 1 2]\n",
            " [0 0 2 3 2 3 1 0 2 2 2 2]\n",
            " [1 0 2 0 1 0 2 1 1 2 0 1]]\n",
            " ==> Steps taken: 3618, Near-falls: 309, Total rewards: -24309\n"
          ]
        }
      ],
      "source": [
        "policy = generate_random_policy(nA, nS, 17) # third parameter is the random seed\n",
        "print (\"*** Policy ***\\n{}\".format(policy.reshape((4, 12))))\n",
        "\n",
        "# Do just one run\n",
        "result = run(env, policy)\n",
        "steps, near_falls, total_rewards = result #results shown\n",
        "# Print the total rewards/return\n",
        "print(f' ==> Steps taken: {steps}, Near-falls: {near_falls}, Total rewards: {total_rewards}')"
      ]
    },
    {
      "cell_type": "code",
      "execution_count": null,
      "id": "c4e32873-e42c-4c7b-8da3-46c7e8a551e1",
      "metadata": {
        "colab": {
          "base_uri": "https://localhost:8080/"
        },
        "id": "c4e32873-e42c-4c7b-8da3-46c7e8a551e1",
        "outputId": "b75e5e90-786e-4a2e-bda7-5c6ef6a52b9f"
      },
      "outputs": [
        {
          "output_type": "stream",
          "name": "stdout",
          "text": [
            "*** Policy ***\n",
            "[[0 0 3 1 2 2 2 0 1 0 1 3]\n",
            " [2 0 2 0 3 3 3 2 3 1 0 2]\n",
            " [1 2 3 1 3 0 1 3 0 2 1 2]\n",
            " [3 3 3 2 3 3 0 0 1 2 3 1]]\n",
            " ==> Steps taken: 4545, Near-falls: 845, Total rewards: -17118\n"
          ]
        }
      ],
      "source": [
        "#fixed policy 1\n",
        "policy = generate_random_policy(nA, nS, 11) # third parameter is the random seed\n",
        "print (\"*** Policy ***\\n{}\".format(policy.reshape((4, 12))))\n",
        "\n",
        "# Do just one run\n",
        "result = run(env, policy)\n",
        "steps, near_falls, total_rewards = result #results shown\n",
        "# Print the total rewards/return\n",
        "print(f' ==> Steps taken: {steps}, Near-falls: {near_falls}, Total rewards: {total_rewards}')"
      ]
    },
    {
      "cell_type": "code",
      "execution_count": null,
      "id": "807b857e-09c4-4233-8877-e73efaae48fa",
      "metadata": {
        "colab": {
          "base_uri": "https://localhost:8080/"
        },
        "id": "807b857e-09c4-4233-8877-e73efaae48fa",
        "outputId": "15094bb0-4283-4d7f-8e70-6e7729935d52"
      },
      "outputs": [
        {
          "output_type": "stream",
          "name": "stdout",
          "text": [
            "*** Policy ***\n",
            "[[3 0 2 2 0 2 2 1 2 0 3 0]\n",
            " [1 1 0 1 2 0 0 0 0 3 0 2]\n",
            " [3 3 0 3 3 2 1 0 0 3 3 1]\n",
            " [1 0 1 3 1 3 1 1 2 1 1 1]]\n",
            " ==> Steps taken: 298, Near-falls: 69, Total rewards: -2971\n"
          ]
        }
      ],
      "source": [
        "#fixed policy 2\n",
        "policy = generate_random_policy(nA, nS, 29) # third parameter is the random seed\n",
        "print (\"*** Policy ***\\n{}\".format(policy.reshape((4, 12))))\n",
        "\n",
        "# Do just one run\n",
        "result = run(env, policy)\n",
        "steps, near_falls, total_rewards = result #results shown\n",
        "# Print the total rewards/return\n",
        "print(f' ==> Steps taken: {steps}, Near-falls: {near_falls}, Total rewards: {total_rewards}')"
      ]
    },
    {
      "cell_type": "code",
      "execution_count": null,
      "id": "917ab60b-605e-4795-8c50-b4550343a721",
      "metadata": {
        "colab": {
          "base_uri": "https://localhost:8080/",
          "height": 443
        },
        "id": "917ab60b-605e-4795-8c50-b4550343a721",
        "outputId": "605d748c-b9a8-415f-e331-9ee51df122df"
      },
      "outputs": [
        {
          "output_type": "stream",
          "name": "stdout",
          "text": [
            "*** Policy ***\n",
            "[[2 3 0 3 1 2 2 1 3 0 1 1]\n",
            " [2 1 0 0 0 0 0 3 0 2 3 0]\n",
            " [1 1 1 3 0 3 3 3 0 1 2 1]\n",
            " [2 2 2 0 3 2 3 1 1 3 0 0]]\n"
          ]
        },
        {
          "output_type": "error",
          "ename": "KeyboardInterrupt",
          "evalue": "",
          "traceback": [
            "\u001b[0;31m---------------------------------------------------------------------------\u001b[0m",
            "\u001b[0;31mKeyboardInterrupt\u001b[0m                         Traceback (most recent call last)",
            "\u001b[0;32m<ipython-input-19-be5f60db33ed>\u001b[0m in \u001b[0;36m<cell line: 0>\u001b[0;34m()\u001b[0m\n\u001b[1;32m      4\u001b[0m \u001b[0;34m\u001b[0m\u001b[0m\n\u001b[1;32m      5\u001b[0m \u001b[0;31m# Do just one run\u001b[0m\u001b[0;34m\u001b[0m\u001b[0;34m\u001b[0m\u001b[0m\n\u001b[0;32m----> 6\u001b[0;31m \u001b[0mresult\u001b[0m \u001b[0;34m=\u001b[0m \u001b[0mrun\u001b[0m\u001b[0;34m(\u001b[0m\u001b[0menv\u001b[0m\u001b[0;34m,\u001b[0m \u001b[0mpolicy\u001b[0m\u001b[0;34m)\u001b[0m\u001b[0;34m\u001b[0m\u001b[0;34m\u001b[0m\u001b[0m\n\u001b[0m\u001b[1;32m      7\u001b[0m \u001b[0msteps\u001b[0m\u001b[0;34m,\u001b[0m \u001b[0mnear_falls\u001b[0m\u001b[0;34m,\u001b[0m \u001b[0mtotal_rewards\u001b[0m \u001b[0;34m=\u001b[0m \u001b[0mresult\u001b[0m \u001b[0;31m#results shown\u001b[0m\u001b[0;34m\u001b[0m\u001b[0;34m\u001b[0m\u001b[0m\n\u001b[1;32m      8\u001b[0m \u001b[0;31m# Print the total rewards/return\u001b[0m\u001b[0;34m\u001b[0m\u001b[0;34m\u001b[0m\u001b[0m\n",
            "\u001b[0;32m<ipython-input-15-dfe707f715cb>\u001b[0m in \u001b[0;36mrun\u001b[0;34m(env, pi, printinfo)\u001b[0m\n\u001b[1;32m     33\u001b[0m         \u001b[0;31m# prints info in text if render_mode is 'ansi' or no output if 'human',\u001b[0m\u001b[0;34m\u001b[0m\u001b[0;34m\u001b[0m\u001b[0m\n\u001b[1;32m     34\u001b[0m         \u001b[0;31m# or graphical output if 'rgb_array' AND if the code is run from command line.\u001b[0m\u001b[0;34m\u001b[0m\u001b[0;34m\u001b[0m\u001b[0m\n\u001b[0;32m---> 35\u001b[0;31m         \u001b[0menv\u001b[0m\u001b[0;34m.\u001b[0m\u001b[0mrender\u001b[0m\u001b[0;34m(\u001b[0m\u001b[0;34m)\u001b[0m\u001b[0;34m\u001b[0m\u001b[0;34m\u001b[0m\u001b[0m\n\u001b[0m\u001b[1;32m     36\u001b[0m     \u001b[0;32mreturn\u001b[0m \u001b[0msteps\u001b[0m\u001b[0;34m,\u001b[0m \u001b[0mnear_falls\u001b[0m\u001b[0;34m,\u001b[0m \u001b[0msum_r\u001b[0m\u001b[0;34m\u001b[0m\u001b[0;34m\u001b[0m\u001b[0m\n",
            "\u001b[0;32m/usr/local/lib/python3.11/dist-packages/gymnasium/wrappers/common.py\u001b[0m in \u001b[0;36mrender\u001b[0;34m(self)\u001b[0m\n\u001b[1;32m    407\u001b[0m                 \u001b[0;34m\"set `disable_render_order_enforcing=True` on the OrderEnforcer wrapper.\"\u001b[0m\u001b[0;34m\u001b[0m\u001b[0;34m\u001b[0m\u001b[0m\n\u001b[1;32m    408\u001b[0m             )\n\u001b[0;32m--> 409\u001b[0;31m         \u001b[0;32mreturn\u001b[0m \u001b[0msuper\u001b[0m\u001b[0;34m(\u001b[0m\u001b[0;34m)\u001b[0m\u001b[0;34m.\u001b[0m\u001b[0mrender\u001b[0m\u001b[0;34m(\u001b[0m\u001b[0;34m)\u001b[0m\u001b[0;34m\u001b[0m\u001b[0;34m\u001b[0m\u001b[0m\n\u001b[0m\u001b[1;32m    410\u001b[0m \u001b[0;34m\u001b[0m\u001b[0m\n\u001b[1;32m    411\u001b[0m     \u001b[0;34m@\u001b[0m\u001b[0mproperty\u001b[0m\u001b[0;34m\u001b[0m\u001b[0;34m\u001b[0m\u001b[0m\n",
            "\u001b[0;32m/usr/local/lib/python3.11/dist-packages/gymnasium/core.py\u001b[0m in \u001b[0;36mrender\u001b[0;34m(self)\u001b[0m\n\u001b[1;32m    330\u001b[0m     \u001b[0;32mdef\u001b[0m \u001b[0mrender\u001b[0m\u001b[0;34m(\u001b[0m\u001b[0mself\u001b[0m\u001b[0;34m)\u001b[0m \u001b[0;34m->\u001b[0m \u001b[0mRenderFrame\u001b[0m \u001b[0;34m|\u001b[0m \u001b[0mlist\u001b[0m\u001b[0;34m[\u001b[0m\u001b[0mRenderFrame\u001b[0m\u001b[0;34m]\u001b[0m \u001b[0;34m|\u001b[0m \u001b[0;32mNone\u001b[0m\u001b[0;34m:\u001b[0m\u001b[0;34m\u001b[0m\u001b[0;34m\u001b[0m\u001b[0m\n\u001b[1;32m    331\u001b[0m         \u001b[0;34m\"\"\"Uses the :meth:`render` of the :attr:`env` that can be overwritten to change the returned data.\"\"\"\u001b[0m\u001b[0;34m\u001b[0m\u001b[0;34m\u001b[0m\u001b[0m\n\u001b[0;32m--> 332\u001b[0;31m         \u001b[0;32mreturn\u001b[0m \u001b[0mself\u001b[0m\u001b[0;34m.\u001b[0m\u001b[0menv\u001b[0m\u001b[0;34m.\u001b[0m\u001b[0mrender\u001b[0m\u001b[0;34m(\u001b[0m\u001b[0;34m)\u001b[0m\u001b[0;34m\u001b[0m\u001b[0;34m\u001b[0m\u001b[0m\n\u001b[0m\u001b[1;32m    333\u001b[0m \u001b[0;34m\u001b[0m\u001b[0m\n\u001b[1;32m    334\u001b[0m     \u001b[0;32mdef\u001b[0m \u001b[0mclose\u001b[0m\u001b[0;34m(\u001b[0m\u001b[0mself\u001b[0m\u001b[0;34m)\u001b[0m\u001b[0;34m:\u001b[0m\u001b[0;34m\u001b[0m\u001b[0;34m\u001b[0m\u001b[0m\n",
            "\u001b[0;32m/usr/local/lib/python3.11/dist-packages/gymnasium/wrappers/common.py\u001b[0m in \u001b[0;36mrender\u001b[0;34m(self)\u001b[0m\n\u001b[1;32m    301\u001b[0m             \u001b[0;32mreturn\u001b[0m \u001b[0menv_render_passive_checker\u001b[0m\u001b[0;34m(\u001b[0m\u001b[0mself\u001b[0m\u001b[0;34m.\u001b[0m\u001b[0menv\u001b[0m\u001b[0;34m)\u001b[0m\u001b[0;34m\u001b[0m\u001b[0;34m\u001b[0m\u001b[0m\n\u001b[1;32m    302\u001b[0m         \u001b[0;32melse\u001b[0m\u001b[0;34m:\u001b[0m\u001b[0;34m\u001b[0m\u001b[0;34m\u001b[0m\u001b[0m\n\u001b[0;32m--> 303\u001b[0;31m             \u001b[0;32mreturn\u001b[0m \u001b[0mself\u001b[0m\u001b[0;34m.\u001b[0m\u001b[0menv\u001b[0m\u001b[0;34m.\u001b[0m\u001b[0mrender\u001b[0m\u001b[0;34m(\u001b[0m\u001b[0;34m)\u001b[0m\u001b[0;34m\u001b[0m\u001b[0;34m\u001b[0m\u001b[0m\n\u001b[0m\u001b[1;32m    304\u001b[0m \u001b[0;34m\u001b[0m\u001b[0m\n\u001b[1;32m    305\u001b[0m     \u001b[0;34m@\u001b[0m\u001b[0mproperty\u001b[0m\u001b[0;34m\u001b[0m\u001b[0;34m\u001b[0m\u001b[0m\n",
            "\u001b[0;32m/usr/local/lib/python3.11/dist-packages/gymnasium/envs/toy_text/cliffwalking.py\u001b[0m in \u001b[0;36mrender\u001b[0;34m(self)\u001b[0m\n\u001b[1;32m    226\u001b[0m             \u001b[0;32mreturn\u001b[0m \u001b[0mself\u001b[0m\u001b[0;34m.\u001b[0m\u001b[0m_render_text\u001b[0m\u001b[0;34m(\u001b[0m\u001b[0;34m)\u001b[0m\u001b[0;34m\u001b[0m\u001b[0;34m\u001b[0m\u001b[0m\n\u001b[1;32m    227\u001b[0m         \u001b[0;32melse\u001b[0m\u001b[0;34m:\u001b[0m\u001b[0;34m\u001b[0m\u001b[0;34m\u001b[0m\u001b[0m\n\u001b[0;32m--> 228\u001b[0;31m             \u001b[0;32mreturn\u001b[0m \u001b[0mself\u001b[0m\u001b[0;34m.\u001b[0m\u001b[0m_render_gui\u001b[0m\u001b[0;34m(\u001b[0m\u001b[0mself\u001b[0m\u001b[0;34m.\u001b[0m\u001b[0mrender_mode\u001b[0m\u001b[0;34m)\u001b[0m\u001b[0;34m\u001b[0m\u001b[0;34m\u001b[0m\u001b[0m\n\u001b[0m\u001b[1;32m    229\u001b[0m \u001b[0;34m\u001b[0m\u001b[0m\n\u001b[1;32m    230\u001b[0m     \u001b[0;32mdef\u001b[0m \u001b[0m_render_gui\u001b[0m\u001b[0;34m(\u001b[0m\u001b[0mself\u001b[0m\u001b[0;34m,\u001b[0m \u001b[0mmode\u001b[0m\u001b[0;34m)\u001b[0m\u001b[0;34m:\u001b[0m\u001b[0;34m\u001b[0m\u001b[0;34m\u001b[0m\u001b[0m\n",
            "\u001b[0;32m/usr/local/lib/python3.11/dist-packages/gymnasium/envs/toy_text/cliffwalking.py\u001b[0m in \u001b[0;36m_render_gui\u001b[0;34m(self, mode)\u001b[0m\n\u001b[1;32m    292\u001b[0m \u001b[0;34m\u001b[0m\u001b[0m\n\u001b[1;32m    293\u001b[0m         \u001b[0;32mfor\u001b[0m \u001b[0ms\u001b[0m \u001b[0;32min\u001b[0m \u001b[0mrange\u001b[0m\u001b[0;34m(\u001b[0m\u001b[0mself\u001b[0m\u001b[0;34m.\u001b[0m\u001b[0mnS\u001b[0m\u001b[0;34m)\u001b[0m\u001b[0;34m:\u001b[0m\u001b[0;34m\u001b[0m\u001b[0;34m\u001b[0m\u001b[0m\n\u001b[0;32m--> 294\u001b[0;31m             \u001b[0mrow\u001b[0m\u001b[0;34m,\u001b[0m \u001b[0mcol\u001b[0m \u001b[0;34m=\u001b[0m \u001b[0mnp\u001b[0m\u001b[0;34m.\u001b[0m\u001b[0munravel_index\u001b[0m\u001b[0;34m(\u001b[0m\u001b[0ms\u001b[0m\u001b[0;34m,\u001b[0m \u001b[0mself\u001b[0m\u001b[0;34m.\u001b[0m\u001b[0mshape\u001b[0m\u001b[0;34m)\u001b[0m\u001b[0;34m\u001b[0m\u001b[0;34m\u001b[0m\u001b[0m\n\u001b[0m\u001b[1;32m    295\u001b[0m             \u001b[0mpos\u001b[0m \u001b[0;34m=\u001b[0m \u001b[0;34m(\u001b[0m\u001b[0mcol\u001b[0m \u001b[0;34m*\u001b[0m \u001b[0mself\u001b[0m\u001b[0;34m.\u001b[0m\u001b[0mcell_size\u001b[0m\u001b[0;34m[\u001b[0m\u001b[0;36m0\u001b[0m\u001b[0;34m]\u001b[0m\u001b[0;34m,\u001b[0m \u001b[0mrow\u001b[0m \u001b[0;34m*\u001b[0m \u001b[0mself\u001b[0m\u001b[0;34m.\u001b[0m\u001b[0mcell_size\u001b[0m\u001b[0;34m[\u001b[0m\u001b[0;36m1\u001b[0m\u001b[0;34m]\u001b[0m\u001b[0;34m)\u001b[0m\u001b[0;34m\u001b[0m\u001b[0;34m\u001b[0m\u001b[0m\n\u001b[1;32m    296\u001b[0m             \u001b[0mcheck_board_mask\u001b[0m \u001b[0;34m=\u001b[0m \u001b[0mrow\u001b[0m \u001b[0;34m%\u001b[0m \u001b[0;36m2\u001b[0m \u001b[0;34m^\u001b[0m \u001b[0mcol\u001b[0m \u001b[0;34m%\u001b[0m \u001b[0;36m2\u001b[0m\u001b[0;34m\u001b[0m\u001b[0;34m\u001b[0m\u001b[0m\n",
            "\u001b[0;31mKeyboardInterrupt\u001b[0m: "
          ]
        }
      ],
      "source": [
        "#fixed policy 3\n",
        "policy = generate_random_policy(nA, nS, 5) # third parameter is the random seed\n",
        "print (\"*** Policy ***\\n{}\".format(policy.reshape((4, 12))))\n",
        "\n",
        "# Do just one run\n",
        "result = run(env, policy)\n",
        "steps, near_falls, total_rewards = result #results shown\n",
        "# Print the total rewards/return\n",
        "print(f' ==> Steps taken: {steps}, Near-falls: {near_falls}, Total rewards: {total_rewards}')"
      ]
    },
    {
      "cell_type": "code",
      "execution_count": null,
      "id": "84588ec2-1300-4dfb-b235-22761f91404b",
      "metadata": {
        "colab": {
          "base_uri": "https://localhost:8080/",
          "height": 564
        },
        "id": "84588ec2-1300-4dfb-b235-22761f91404b",
        "outputId": "1fc114f6-32f6-41dc-860a-9dee0be49507"
      },
      "outputs": [
        {
          "output_type": "display_data",
          "data": {
            "text/plain": [
              "<Figure size 1000x600 with 2 Axes>"
            ],
            "image/png": "[encoded data removed]"
          },
          "metadata": {}
        }
      ],
      "source": [
        "import matplotlib.pyplot as plt\n",
        "import numpy as np\n",
        "\n",
        "# Data from the policies\n",
        "policies = ['Policy 1', 'Policy 3', 'Policy 2']\n",
        "steps = [4545, 2483, 298]\n",
        "near_falls = [845, 521, 69]\n",
        "rewards = [-17118, -4974, -2971]\n",
        "\n",
        "# Calculate the ratio of near-falls to steps\n",
        "near_fall_ratios = [nf / s for nf, s in zip(near_falls, steps)]\n",
        "\n",
        "# Histogram\n",
        "fig, ax1 = plt.subplots(figsize=(10, 6))\n",
        "\n",
        "# Bar plot for steps and near-fall ratios\n",
        "ax1.bar(policies, steps, color='b', alpha=0.6, label='Steps')\n",
        "ax1.bar(policies, near_falls, color='r', alpha=0.6, label='Near-falls')\n",
        "ax1.set_xlabel('Policies')\n",
        "ax1.set_ylabel('Count')\n",
        "ax1.legend(loc='upper left')\n",
        "\n",
        "# y-axis for rewards\n",
        "ax2 = ax1.twinx()\n",
        "ax2.plot(policies, rewards, color='g', marker='o', label='Rewards')\n",
        "ax2.set_ylabel('Rewards')\n",
        "ax2.legend(loc='upper right')\n",
        "\n",
        "plt.title('Comparison of Policies: Steps, Near-falls, and Rewards')\n",
        "plt.show()"
      ]
    },
    {
      "cell_type": "code",
      "execution_count": null,
      "id": "fe651ddf-a4d8-4807-a9b1-9edd3966861d",
      "metadata": {
        "id": "fe651ddf-a4d8-4807-a9b1-9edd3966861d"
      },
      "outputs": [],
      "source": [
        "#part 2: policy iteration\n",
        "\n",
        "#part 2: policy iteration\n",
        "\n",
        "import numpy as np\n",
        " # value function V(s) w small non-zero values\n",
        "\n",
        "def policy_iteration(env, gamma=0.8, theta=1e-6):\n",
        "    nS = env.observation_space.n #states\n",
        "    nA = env.action_space.n #actions\n",
        "    goal_state = nS - 1\n",
        "\n",
        "    #initialize value function\n",
        "    V = np.random.uniform(low=0.0, high=1e-6, size=nS)\n",
        "    V[goal_state] = 0\n",
        "    policy = np.random.choice(nA, size=nS)\n",
        "\n",
        "    #random policy generated\n",
        "    policy_stable = False\n",
        "    while not policy_stable:\n",
        "        # Policy Evaluation\n",
        "        while True:\n",
        "            delta = 0\n",
        "            V_new = np.copy(V)  # Create a new value table for asynchronous updates\n",
        "\n",
        "            for s in range(nS):\n",
        "                    if s == goal_state:\n",
        "                        continue\n",
        "                        old_action = policy[s] #moved\n",
        "                        a = policy[s]  # Current action under the policy\n",
        "                        V_new[s] = sum(\n",
        "                        p * (r + gamma * V[s_prime])\n",
        "                    for p, s_prime, r, _ in env.unwrapped.P[s][a]\n",
        "                )\n",
        "                        delta = max(delta, abs(V[s] - V_new[s]))\n",
        "\n",
        "                        V = V_new\n",
        "                        if delta < theta:break\n",
        "\n",
        "# Check for convergence\n",
        "        goal_state = nS - 1 #moved outside of loop\n",
        "        policy_stable = True\n",
        "        for s in range(nS):\n",
        "            if s == goal_state:\n",
        "                continue\n",
        "\n",
        "            #POLICY IMPROVEMENT\n",
        "            old_action = policy[s] #moved here for access within the loop\n",
        "            #define action_values before using it in the loop below\n",
        "            action_values = np.zeros(nA)\n",
        "            # action that maximizes the value function\n",
        "            for a in range(nA):\n",
        "                action_values[a] = sum(\n",
        "                p * (r + gamma * V[s_prime])\n",
        "                for p, s_prime, r, _ in env.unwrapped.P[s][a]\n",
        "            )\n",
        "            policy[s] = np.argmax(action_values)\n",
        "\n",
        "\n",
        "            # Check if the policy has changed\n",
        "            if old_action != policy[s]:\n",
        "                policy_stable = False\n",
        "    return policy, V #moved outside of the for s in range(nS)"
      ]
    },
    {
      "cell_type": "code",
      "execution_count": null,
      "id": "fb8d20da-9e0b-42aa-bde4-9d4750434340",
      "metadata": {
        "id": "fb8d20da-9e0b-42aa-bde4-9d4750434340"
      },
      "outputs": [],
      "source": [
        "import gym\n",
        "env = gym.make('CliffWalking-v0')\n",
        "\n"
      ]
    },
    {
      "cell_type": "code",
      "source": [
        "import numpy as np\n",
        "def policy_iteration(env, gamma=0.8, theta=1e-6, max_iterations=100):\n",
        "    nS = env.observation_space.n  # Number of states\n",
        "    nA = env.action_space.n       # Number of actions\n",
        "    goal_state = nS - 1           # Goal state\n",
        "\n",
        "    # Initialize value function with small non-zero values\n",
        "    V = np.random.uniform(low=0.0, high=1e-6, size=nS)\n",
        "    V[goal_state] = 0  # Goal state has a value of 0\n",
        "\n",
        "    # Initialize a random policy\n",
        "    policy = np.random.choice(nA, size=nS)\n",
        "\n",
        "    policy_stable = False\n",
        "    iteration = 0\n",
        "    while not policy_stable and iteration < max_iterations:\n",
        "        iteration += 1\n",
        "\n",
        "        # Policy Evaluation\n",
        "        while True:\n",
        "            delta = 0\n",
        "            V_new = np.copy(V)  # Create a new value table for updates\n",
        "\n",
        "            # Vectorized Policy Evaluation\n",
        "            for s in range(nS):\n",
        "                if s == goal_state:\n",
        "                    continue  # Skip the goal state\n",
        "\n",
        "                a = policy[s]  # Current action under the policy\n",
        "                # Sum over possible transitions (vectorized)\n",
        "                V_new[s] = sum(\n",
        "                    p * (r + gamma * V[s_prime])\n",
        "                    for p, s_prime, r, _ in env.unwrapped.P[s][a]\n",
        "                )\n",
        "                delta = max(delta, abs(V[s] - V_new[s]))\n",
        "\n",
        "            V = np.copy(V_new)\n",
        "\n",
        "            # Check for convergence in policy evaluation\n",
        "            if delta < theta:\n",
        "                break\n",
        "\n",
        "        # Policy Improvement\n",
        "        policy_stable = True\n",
        "        for s in range(nS):\n",
        "            if s == goal_state:\n",
        "                continue  # Skip the goal state\n",
        "\n",
        "            old_action = policy[s]\n",
        "            action_values = np.zeros(nA)\n",
        "\n",
        "            # Vectorized Policy Improvement\n",
        "            for a in range(nA):\n",
        "                action_values[a] = sum(\n",
        "                    p * (r + gamma * V[s_prime])\n",
        "                    for p, s_prime, r, _ in env.unwrapped.P[s][a]\n",
        "                )\n",
        "\n",
        "            # Choose the action that maximizes the value function\n",
        "            policy[s] = np.argmax(action_values)\n",
        "\n",
        "            # Check if the policy has changed\n",
        "            if old_action != policy[s]:\n",
        "                policy_stable = False\n",
        "\n",
        "    return policy, V\n",
        "\n",
        "policy, value_function = policy_iteration(env, max_iterations=100)\n",
        "print(\"Policy:\", policy)\n",
        "print(\"Value Function:\", value_function)"
      ],
      "metadata": {
        "colab": {
          "base_uri": "https://localhost:8080/"
        },
        "id": "QPpNmVjJy2yo",
        "outputId": "2f757abe-5d82-4681-e7b3-44fc4f1fd279"
      },
      "id": "QPpNmVjJy2yo",
      "execution_count": null,
      "outputs": [
        {
          "output_type": "stream",
          "name": "stdout",
          "text": [
            "Policy: [1 1 1 1 1 1 1 1 1 1 1 2 1 1 1 1 1 1 1 1 1 1 1 2 1 1 1 1 1 1 1 1 1 1 1 2 0\n",
            " 0 0 0 0 0 0 0 0 0 1 2]\n",
            "Value Function: [-4.78009767 -4.72512209 -4.65640262 -4.57050327 -4.46312909 -4.32891136\n",
            " -4.1611392  -3.951424   -3.68928    -3.3616     -2.952      -2.44\n",
            " -4.72512209 -4.65640262 -4.57050327 -4.46312909 -4.32891136 -4.1611392\n",
            " -3.951424   -3.68928    -3.3616     -2.952      -2.44       -1.8\n",
            " -4.65640262 -4.57050327 -4.46312909 -4.32891136 -4.1611392  -3.951424\n",
            " -3.68928    -3.3616     -2.952      -2.44       -1.8        -1.\n",
            " -4.72512209 -4.65640262 -4.57050327 -4.46312909 -4.32891136 -4.1611392\n",
            " -3.951424   -3.68928    -3.3616     -2.952      -1.          0.        ]\n"
          ]
        }
      ]
    }
  ],
  "metadata": {
    "colab": {
      "provenance": [],
      "include_colab_link": true
    },
    "kernelspec": {
      "display_name": "Python 3 (ipykernel)",
      "language": "python",
      "name": "python3"
    },
    "language_info": {
      "codemirror_mode": {
        "name": "ipython",
        "version": 3
      },
      "file_extension": ".py",
      "mimetype": "text/x-python",
      "name": "python",
      "nbconvert_exporter": "python",
      "pygments_lexer": "ipython3",
      "version": "3.12.3"
    }
  },
  "nbformat": 4,
  "nbformat_minor": 5
}